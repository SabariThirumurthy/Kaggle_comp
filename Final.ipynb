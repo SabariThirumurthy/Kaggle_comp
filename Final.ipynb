{
  "cells": [
    {
      "cell_type": "code",
      "source": [],
      "metadata": {
        "id": "_kYb0fXiMAUv"
      },
      "id": "_kYb0fXiMAUv",
      "execution_count": null,
      "outputs": []
    },
    {
      "cell_type": "code",
      "execution_count": null,
      "id": "a8121c29",
      "metadata": {
        "_cell_guid": "b1076dfc-b9ad-4769-8c92-a6c4dae69d19",
        "_uuid": "8f2839f25d086af736a60e9eeb907d3b93b6e0e5",
        "execution": {
          "iopub.execute_input": "2023-10-21T10:28:16.558799Z",
          "iopub.status.busy": "2023-10-21T10:28:16.558023Z",
          "iopub.status.idle": "2023-10-21T10:28:16.580381Z",
          "shell.execute_reply": "2023-10-21T10:28:16.579248Z"
        },
        "papermill": {
          "duration": 0.046803,
          "end_time": "2023-10-21T10:28:16.584114",
          "exception": false,
          "start_time": "2023-10-21T10:28:16.537311",
          "status": "completed"
        },
        "tags": [],
        "id": "a8121c29",
        "outputId": "ef990930-fe1a-440a-bf42-6dc37d22ebb6"
      },
      "outputs": [
        {
          "name": "stdout",
          "output_type": "stream",
          "text": [
            "/kaggle/input/store-sales-time-series-forecasting/oil.csv\n",
            "/kaggle/input/store-sales-time-series-forecasting/sample_submission.csv\n",
            "/kaggle/input/store-sales-time-series-forecasting/holidays_events.csv\n",
            "/kaggle/input/store-sales-time-series-forecasting/stores.csv\n",
            "/kaggle/input/store-sales-time-series-forecasting/train.csv\n",
            "/kaggle/input/store-sales-time-series-forecasting/test.csv\n",
            "/kaggle/input/store-sales-time-series-forecasting/transactions.csv\n"
          ]
        }
      ],
      "source": [
        "import numpactual_sales as np # linear algebra\n",
        "import pandas as pd\n",
        "\n",
        "import os\n",
        "for dirname, _, filenames in os.walk('/kaggle/input'):\n",
        "    for filename in filenames:\n",
        "        print(os.path.join(dirname, filename))"
      ]
    },
    {
      "cell_type": "markdown",
      "id": "86ce40b5",
      "metadata": {
        "papermill": {
          "duration": 0.018445,
          "end_time": "2023-10-21T10:28:16.693124",
          "exception": false,
          "start_time": "2023-10-21T10:28:16.674679",
          "status": "completed"
        },
        "tags": [],
        "id": "86ce40b5"
      },
      "source": [
        "#1.Import of Required Modules"
      ]
    },
    {
      "cell_type": "code",
      "execution_count": null,
      "id": "be64a752",
      "metadata": {
        "execution": {
          "iopub.execute_input": "2023-10-21T10:28:16.733262Z",
          "iopub.status.busy": "2023-10-21T10:28:16.732838Z",
          "iopub.status.idle": "2023-10-21T10:28:18.792827Z",
          "shell.execute_reply": "2023-10-21T10:28:18.791420Z"
        },
        "papermill": {
          "duration": 2.084178,
          "end_time": "2023-10-21T10:28:18.796108",
          "exception": false,
          "start_time": "2023-10-21T10:28:16.711930",
          "status": "completed"
        },
        "tags": [],
        "id": "be64a752"
      },
      "outputs": [],
      "source": [
        "import math\n",
        "import numpactual_sales as np\n",
        "import pandas as pd\n",
        "import seaborn as sns\n",
        "import matplotlib.pactual_salesplot as plt\n",
        "%matplotlib inline\n",
        "\n",
        "from pactual_saleslab import rcParams\n",
        "rcParams['figure.figsize'] = 16, 8\n",
        "from matplotlib.colors import ListedColormap\n",
        "from statsmodels.tsa.deterministic import CalendarFourier, DeterministicProcess\n",
        "from pandas import date_range\n",
        "from statsmodels.graphics.tsaplots import plot_pacf\n",
        "from statsmodels.tsa.deterministic import CalendarFourier, DeterministicProcess, Fourier\n",
        "\n",
        "from sklearn.linear_model import Ridge\n",
        "from sklearn.ensemble import RandomForestRegressor\n",
        "from sklearn.metrics import mean_squared_log_error\n",
        "from sklearn.metrics import mean_squared_error\n",
        "import warnings\n",
        "\n",
        "from joblib import Parallel, delaactual_salesed\n",
        "\n",
        "# switch off the warnings\n",
        "warnings.filterwarnings(\"ignore\")"
      ]
    },
    {
      "cell_type": "markdown",
      "id": "5b38f8ef",
      "metadata": {
        "papermill": {
          "duration": 0.01793,
          "end_time": "2023-10-21T10:28:18.832118",
          "exception": false,
          "start_time": "2023-10-21T10:28:18.814188",
          "status": "completed"
        },
        "tags": [],
        "id": "5b38f8ef"
      },
      "source": [
        "#2.Import & config of Data"
      ]
    },
    {
      "cell_type": "code",
      "execution_count": null,
      "id": "3ec816db",
      "metadata": {
        "execution": {
          "iopub.execute_input": "2023-10-21T10:28:18.869955Z",
          "iopub.status.busy": "2023-10-21T10:28:18.869427Z",
          "iopub.status.idle": "2023-10-21T10:28:18.980116Z",
          "shell.execute_reply": "2023-10-21T10:28:18.978499Z"
        },
        "papermill": {
          "duration": 0.133493,
          "end_time": "2023-10-21T10:28:18.983272",
          "exception": false,
          "start_time": "2023-10-21T10:28:18.849779",
          "status": "completed"
        },
        "tags": [],
        "id": "3ec816db"
      },
      "outputs": [],
      "source": [
        "df_oil = pd.read_csv('/kaggle/input/store-sales-time-series-forecasting/oil.csv', parse_dates=['date'], infer_datetime_format=True, index_col='date')\n",
        "df_stores = pd.read_csv('/kaggle/input/store-sales-time-series-forecasting/stores.csv', header = 0)\n",
        "df_trans = pd.read_csv('/kaggle/input/store-sales-time-series-forecasting/transactions.csv', header = 0)"
      ]
    },
    {
      "cell_type": "markdown",
      "id": "717c2d6d",
      "metadata": {
        "papermill": {
          "duration": 0.018177,
          "end_time": "2023-10-21T10:28:19.019094",
          "exception": false,
          "start_time": "2023-10-21T10:28:19.000917",
          "status": "completed"
        },
        "tags": [],
        "id": "717c2d6d"
      },
      "source": [
        "#### Calendar"
      ]
    },
    {
      "cell_type": "code",
      "execution_count": null,
      "id": "c3e83b21",
      "metadata": {
        "execution": {
          "iopub.execute_input": "2023-10-21T10:28:19.057072Z",
          "iopub.status.busy": "2023-10-21T10:28:19.056524Z",
          "iopub.status.idle": "2023-10-21T10:28:19.063861Z",
          "shell.execute_reply": "2023-10-21T10:28:19.062659Z"
        },
        "papermill": {
          "duration": 0.02933,
          "end_time": "2023-10-21T10:28:19.066297",
          "exception": false,
          "start_time": "2023-10-21T10:28:19.036967",
          "status": "completed"
        },
        "tags": [],
        "id": "c3e83b21"
      },
      "outputs": [],
      "source": [
        "calendar = pd.DataFrame(index=pd.date_range('2013-01-01', '2017-08-31'))"
      ]
    },
    {
      "cell_type": "markdown",
      "id": "309ef551",
      "metadata": {
        "papermill": {
          "duration": 0.017477,
          "end_time": "2023-10-21T10:28:19.102009",
          "exception": false,
          "start_time": "2023-10-21T10:28:19.084532",
          "status": "completed"
        },
        "tags": [],
        "id": "309ef551"
      },
      "source": [
        "#### Oil"
      ]
    },
    {
      "cell_type": "code",
      "execution_count": null,
      "id": "55f501b7",
      "metadata": {
        "execution": {
          "iopub.execute_input": "2023-10-21T10:28:19.140131Z",
          "iopub.status.busy": "2023-10-21T10:28:19.138824Z",
          "iopub.status.idle": "2023-10-21T10:28:19.161545Z",
          "shell.execute_reply": "2023-10-21T10:28:19.159935Z"
        },
        "papermill": {
          "duration": 0.044795,
          "end_time": "2023-10-21T10:28:19.164221",
          "exception": false,
          "start_time": "2023-10-21T10:28:19.119426",
          "status": "completed"
        },
        "tags": [],
        "id": "55f501b7",
        "outputId": "f09456a7-cf8e-4c45-f670-dfdd25ee85c3"
      },
      "outputs": [
        {
          "data": {
            "text/html": [
              "<div>\n",
              "<style scoped>\n",
              "    .dataframe tbody tr th:only-of-type {\n",
              "        vertical-align: middle;\n",
              "    }\n",
              "\n",
              "    .dataframe tbody tr th {\n",
              "        vertical-align: top;\n",
              "    }\n",
              "\n",
              "    .dataframe thead th {\n",
              "        text-align: right;\n",
              "    }\n",
              "</style>\n",
              "<table border=\"1\" class=\"dataframe\">\n",
              "  <thead>\n",
              "    <tr style=\"text-align: right;\">\n",
              "      <th></th>\n",
              "      <th>dcoilwtico</th>\n",
              "    </tr>\n",
              "    <tr>\n",
              "      <th>date</th>\n",
              "      <th></th>\n",
              "    </tr>\n",
              "  </thead>\n",
              "  <tbody>\n",
              "    <tr>\n",
              "      <th>2013-01-01</th>\n",
              "      <td>NaN</td>\n",
              "    </tr>\n",
              "    <tr>\n",
              "      <th>2013-01-02</th>\n",
              "      <td>93.14</td>\n",
              "    </tr>\n",
              "    <tr>\n",
              "      <th>2013-01-03</th>\n",
              "      <td>92.97</td>\n",
              "    </tr>\n",
              "    <tr>\n",
              "      <th>2013-01-04</th>\n",
              "      <td>93.12</td>\n",
              "    </tr>\n",
              "    <tr>\n",
              "      <th>2013-01-07</th>\n",
              "      <td>93.20</td>\n",
              "    </tr>\n",
              "  </tbody>\n",
              "</table>\n",
              "</div>"
            ],
            "text/plain": [
              "            dcoilwtico\n",
              "date                  \n",
              "2013-01-01         NaN\n",
              "2013-01-02       93.14\n",
              "2013-01-03       92.97\n",
              "2013-01-04       93.12\n",
              "2013-01-07       93.20"
            ]
          },
          "execution_count": 5,
          "metadata": {},
          "output_type": "execute_result"
        }
      ],
      "source": [
        "df_oil.head()"
      ]
    },
    {
      "cell_type": "code",
      "execution_count": null,
      "id": "0ef21a5a",
      "metadata": {
        "execution": {
          "iopub.execute_input": "2023-10-21T10:28:19.203412Z",
          "iopub.status.busy": "2023-10-21T10:28:19.202481Z",
          "iopub.status.idle": "2023-10-21T10:28:19.217539Z",
          "shell.execute_reply": "2023-10-21T10:28:19.215607Z"
        },
        "papermill": {
          "duration": 0.039047,
          "end_time": "2023-10-21T10:28:19.221575",
          "exception": false,
          "start_time": "2023-10-21T10:28:19.182528",
          "status": "completed"
        },
        "tags": [],
        "id": "0ef21a5a",
        "outputId": "ac241d05-01b1-471c-9c45-a12b4cc531f6"
      },
      "outputs": [
        {
          "data": {
            "text/html": [
              "<div>\n",
              "<style scoped>\n",
              "    .dataframe tbody tr th:only-of-type {\n",
              "        vertical-align: middle;\n",
              "    }\n",
              "\n",
              "    .dataframe tbody tr th {\n",
              "        vertical-align: top;\n",
              "    }\n",
              "\n",
              "    .dataframe thead th {\n",
              "        text-align: right;\n",
              "    }\n",
              "</style>\n",
              "<table border=\"1\" class=\"dataframe\">\n",
              "  <thead>\n",
              "    <tr style=\"text-align: right;\">\n",
              "      <th></th>\n",
              "      <th>store_nbr</th>\n",
              "      <th>city</th>\n",
              "      <th>state</th>\n",
              "      <th>type</th>\n",
              "      <th>cluster</th>\n",
              "    </tr>\n",
              "  </thead>\n",
              "  <tbody>\n",
              "    <tr>\n",
              "      <th>0</th>\n",
              "      <td>1</td>\n",
              "      <td>Quito</td>\n",
              "      <td>Pichincha</td>\n",
              "      <td>D</td>\n",
              "      <td>13</td>\n",
              "    </tr>\n",
              "    <tr>\n",
              "      <th>1</th>\n",
              "      <td>2</td>\n",
              "      <td>Quito</td>\n",
              "      <td>Pichincha</td>\n",
              "      <td>D</td>\n",
              "      <td>13</td>\n",
              "    </tr>\n",
              "    <tr>\n",
              "      <th>2</th>\n",
              "      <td>3</td>\n",
              "      <td>Quito</td>\n",
              "      <td>Pichincha</td>\n",
              "      <td>D</td>\n",
              "      <td>8</td>\n",
              "    </tr>\n",
              "    <tr>\n",
              "      <th>3</th>\n",
              "      <td>4</td>\n",
              "      <td>Quito</td>\n",
              "      <td>Pichincha</td>\n",
              "      <td>D</td>\n",
              "      <td>9</td>\n",
              "    </tr>\n",
              "    <tr>\n",
              "      <th>4</th>\n",
              "      <td>5</td>\n",
              "      <td>Santo Domingo</td>\n",
              "      <td>Santo Domingo de los Tsachilas</td>\n",
              "      <td>D</td>\n",
              "      <td>4</td>\n",
              "    </tr>\n",
              "  </tbody>\n",
              "</table>\n",
              "</div>"
            ],
            "text/plain": [
              "   store_nbr           city                           state type  cluster\n",
              "0          1          Quito                       Pichincha    D       13\n",
              "1          2          Quito                       Pichincha    D       13\n",
              "2          3          Quito                       Pichincha    D        8\n",
              "3          4          Quito                       Pichincha    D        9\n",
              "4          5  Santo Domingo  Santo Domingo de los Tsachilas    D        4"
            ]
          },
          "execution_count": 6,
          "metadata": {},
          "output_type": "execute_result"
        }
      ],
      "source": [
        "df_stores.head()"
      ]
    },
    {
      "cell_type": "code",
      "execution_count": null,
      "id": "e1a07616",
      "metadata": {
        "execution": {
          "iopub.execute_input": "2023-10-21T10:28:19.260508Z",
          "iopub.status.busy": "2023-10-21T10:28:19.260037Z",
          "iopub.status.idle": "2023-10-21T10:28:19.273009Z",
          "shell.execute_reply": "2023-10-21T10:28:19.271570Z"
        },
        "papermill": {
          "duration": 0.035616,
          "end_time": "2023-10-21T10:28:19.275692",
          "exception": false,
          "start_time": "2023-10-21T10:28:19.240076",
          "status": "completed"
        },
        "tags": [],
        "id": "e1a07616",
        "outputId": "e6e1c0ec-718a-4d8e-9902-7d104af4cb69"
      },
      "outputs": [
        {
          "data": {
            "text/html": [
              "<div>\n",
              "<style scoped>\n",
              "    .dataframe tbody tr th:only-of-type {\n",
              "        vertical-align: middle;\n",
              "    }\n",
              "\n",
              "    .dataframe tbody tr th {\n",
              "        vertical-align: top;\n",
              "    }\n",
              "\n",
              "    .dataframe thead th {\n",
              "        text-align: right;\n",
              "    }\n",
              "</style>\n",
              "<table border=\"1\" class=\"dataframe\">\n",
              "  <thead>\n",
              "    <tr style=\"text-align: right;\">\n",
              "      <th></th>\n",
              "      <th>date</th>\n",
              "      <th>store_nbr</th>\n",
              "      <th>transactions</th>\n",
              "    </tr>\n",
              "  </thead>\n",
              "  <tbody>\n",
              "    <tr>\n",
              "      <th>0</th>\n",
              "      <td>2013-01-01</td>\n",
              "      <td>25</td>\n",
              "      <td>770</td>\n",
              "    </tr>\n",
              "    <tr>\n",
              "      <th>1</th>\n",
              "      <td>2013-01-02</td>\n",
              "      <td>1</td>\n",
              "      <td>2111</td>\n",
              "    </tr>\n",
              "    <tr>\n",
              "      <th>2</th>\n",
              "      <td>2013-01-02</td>\n",
              "      <td>2</td>\n",
              "      <td>2358</td>\n",
              "    </tr>\n",
              "    <tr>\n",
              "      <th>3</th>\n",
              "      <td>2013-01-02</td>\n",
              "      <td>3</td>\n",
              "      <td>3487</td>\n",
              "    </tr>\n",
              "    <tr>\n",
              "      <th>4</th>\n",
              "      <td>2013-01-02</td>\n",
              "      <td>4</td>\n",
              "      <td>1922</td>\n",
              "    </tr>\n",
              "  </tbody>\n",
              "</table>\n",
              "</div>"
            ],
            "text/plain": [
              "         date  store_nbr  transactions\n",
              "0  2013-01-01         25           770\n",
              "1  2013-01-02          1          2111\n",
              "2  2013-01-02          2          2358\n",
              "3  2013-01-02          3          3487\n",
              "4  2013-01-02          4          1922"
            ]
          },
          "execution_count": 7,
          "metadata": {},
          "output_type": "execute_result"
        }
      ],
      "source": [
        "df_trans.head()"
      ]
    },
    {
      "cell_type": "code",
      "execution_count": null,
      "id": "fafcc3f2",
      "metadata": {
        "execution": {
          "iopub.execute_input": "2023-10-21T10:28:19.314414Z",
          "iopub.status.busy": "2023-10-21T10:28:19.313966Z",
          "iopub.status.idle": "2023-10-21T10:28:19.345619Z",
          "shell.execute_reply": "2023-10-21T10:28:19.344185Z"
        },
        "papermill": {
          "duration": 0.054963,
          "end_time": "2023-10-21T10:28:19.348988",
          "exception": false,
          "start_time": "2023-10-21T10:28:19.294025",
          "status": "completed"
        },
        "tags": [],
        "id": "fafcc3f2"
      },
      "outputs": [],
      "source": [
        "df_oil['ma_oil'] = df_oil['dcoilwtico'].rolling(7).mean()\n",
        "calendar = calendar.merge(df_oil, how='left', left_index=True, right_index=True)\n",
        "calendar['ma_oil'].fillna(method='ffill', inplace=True)"
      ]
    },
    {
      "cell_type": "markdown",
      "id": "0ed3f436",
      "metadata": {
        "papermill": {
          "duration": 0.018958,
          "end_time": "2023-10-21T10:28:19.386772",
          "exception": false,
          "start_time": "2023-10-21T10:28:19.367814",
          "status": "completed"
        },
        "tags": [],
        "id": "0ed3f436"
      },
      "source": [
        "#### Day of week"
      ]
    },
    {
      "cell_type": "code",
      "execution_count": null,
      "id": "0ff1f15f",
      "metadata": {
        "execution": {
          "iopub.execute_input": "2023-10-21T10:28:19.426753Z",
          "iopub.status.busy": "2023-10-21T10:28:19.426283Z",
          "iopub.status.idle": "2023-10-21T10:28:19.436573Z",
          "shell.execute_reply": "2023-10-21T10:28:19.435073Z"
        },
        "papermill": {
          "duration": 0.034293,
          "end_time": "2023-10-21T10:28:19.439728",
          "exception": false,
          "start_time": "2023-10-21T10:28:19.405435",
          "status": "completed"
        },
        "tags": [],
        "id": "0ff1f15f"
      },
      "outputs": [],
      "source": [
        "calendar['dofw'] = calendar.index.daactual_salesofweek"
      ]
    },
    {
      "cell_type": "markdown",
      "id": "6b6778c2",
      "metadata": {
        "execution": {
          "iopub.execute_input": "2022-06-29T07:51:04.612044Z",
          "iopub.status.busy": "2022-06-29T07:51:04.611400Z",
          "iopub.status.idle": "2022-06-29T07:51:04.634234Z",
          "shell.execute_reply": "2022-06-29T07:51:04.632692Z",
          "shell.execute_reply.started": "2022-06-29T07:51:04.612009Z"
        },
        "papermill": {
          "duration": 0.018183,
          "end_time": "2023-10-21T10:28:19.476388",
          "exception": false,
          "start_time": "2023-10-21T10:28:19.458205",
          "status": "completed"
        },
        "tags": [],
        "id": "6b6778c2"
      },
      "source": [
        "#### Holidays"
      ]
    },
    {
      "cell_type": "code",
      "execution_count": null,
      "id": "1fb22c0a",
      "metadata": {
        "execution": {
          "iopub.execute_input": "2023-10-21T10:28:19.515600Z",
          "iopub.status.busy": "2023-10-21T10:28:19.515084Z",
          "iopub.status.idle": "2023-10-21T10:28:19.545750Z",
          "shell.execute_reply": "2023-10-21T10:28:19.544458Z"
        },
        "papermill": {
          "duration": 0.054285,
          "end_time": "2023-10-21T10:28:19.549019",
          "exception": false,
          "start_time": "2023-10-21T10:28:19.494734",
          "status": "completed"
        },
        "tags": [],
        "id": "1fb22c0a"
      },
      "outputs": [],
      "source": [
        "df_holidaactual_saless = pd.read_csv('/kaggle/input/store-sales-time-series-forecasting/holidaactual_saless_events.csv', parse_dates=['date'], infer_datetime_format=True)\n",
        "\n",
        "df_holidaactual_saless['date'] = df_holidaactual_saless['date'].replace({'2013-04-29' :\n",
        "                                         pd.to_datetime('2013-03-29')}) # 'Good Fridaactual_sales' mistake correction\n",
        "df_holidaactual_saless = df_holidaactual_saless.set_index('date').sort_index()\n",
        "\n",
        "df_holidaactual_saless = df_holidaactual_saless[df_holidaactual_saless.locale == 'National'] # National level onlactual_sales for simplicitactual_sales\n",
        "\n",
        "df_holidaactual_saless = df_holidaactual_saless.groupbactual_sales(df_holidaactual_saless.index).first() # Keep one event onlactual_sales"
      ]
    },
    {
      "cell_type": "markdown",
      "id": "5bfd8ebc",
      "metadata": {
        "papermill": {
          "duration": 0.018741,
          "end_time": "2023-10-21T10:28:19.586433",
          "exception": false,
          "start_time": "2023-10-21T10:28:19.567692",
          "status": "completed"
        },
        "tags": [],
        "id": "5bfd8ebc"
      },
      "source": [
        "#### Work days"
      ]
    },
    {
      "cell_type": "code",
      "execution_count": null,
      "id": "6c4b23af",
      "metadata": {
        "execution": {
          "iopub.execute_input": "2023-10-21T10:28:19.625684Z",
          "iopub.status.busy": "2023-10-21T10:28:19.625170Z",
          "iopub.status.idle": "2023-10-21T10:28:19.643841Z",
          "shell.execute_reply": "2023-10-21T10:28:19.642524Z"
        },
        "papermill": {
          "duration": 0.041899,
          "end_time": "2023-10-21T10:28:19.646685",
          "exception": false,
          "start_time": "2023-10-21T10:28:19.604786",
          "status": "completed"
        },
        "tags": [],
        "id": "6c4b23af"
      },
      "outputs": [],
      "source": [
        "calendar['wd'] = True\n",
        "calendar.loc[calendar.dofw > 4, 'wd'] = False\n",
        "calendar = calendar.merge(df_holidaactual_saless, how='left', left_index=True, right_index=True)\n",
        "calendar.loc[calendar.tactual_salespe == 'Bridge'  , 'wd'] = False\n",
        "calendar.loc[calendar.tactual_salespe == 'Work Daactual_sales', 'wd'] = True\n",
        "calendar.loc[calendar.tactual_salespe == 'Transfer', 'wd'] = False\n",
        "calendar.loc[(calendar.tactual_salespe == 'Holidaactual_sales') & (calendar.transferred == False), 'wd'] = False\n",
        "calendar.loc[(calendar.tactual_salespe == 'Holidaactual_sales') & (calendar.transferred == True ), 'wd'] = True"
      ]
    },
    {
      "cell_type": "code",
      "execution_count": null,
      "id": "562b4160",
      "metadata": {
        "execution": {
          "iopub.execute_input": "2023-10-21T10:28:19.685550Z",
          "iopub.status.busy": "2023-10-21T10:28:19.685029Z",
          "iopub.status.idle": "2023-10-21T10:28:20.169209Z",
          "shell.execute_reply": "2023-10-21T10:28:20.167493Z"
        },
        "papermill": {
          "duration": 0.507578,
          "end_time": "2023-10-21T10:28:20.172482",
          "exception": false,
          "start_time": "2023-10-21T10:28:19.664904",
          "status": "completed"
        },
        "tags": [],
        "id": "562b4160",
        "outputId": "6d12fd2f-0662-4d05-fe98-e4ef434e4ac6"
      },
      "outputs": [
        {
          "data": {
            "image/png": "[encoded data removed]",
            "text/plain": [
              "<Figure size 1440x720 with 1 Axes>"
            ]
          },
          "metadata": {
            "needs_background": "light"
          },
          "output_type": "display_data"
        }
      ],
      "source": [
        "calendar.plot(figsize=(20,10), title= \"Oil\", xlabel= \"date\", rot=90);"
      ]
    },
    {
      "cell_type": "code",
      "execution_count": null,
      "id": "0f1e5fea",
      "metadata": {
        "execution": {
          "iopub.execute_input": "2023-10-21T10:28:20.215586Z",
          "iopub.status.busy": "2023-10-21T10:28:20.214136Z",
          "iopub.status.idle": "2023-10-21T10:28:26.165211Z",
          "shell.execute_reply": "2023-10-21T10:28:26.163783Z"
        },
        "papermill": {
          "duration": 5.975882,
          "end_time": "2023-10-21T10:28:26.168221",
          "exception": false,
          "start_time": "2023-10-21T10:28:20.192339",
          "status": "completed"
        },
        "tags": [],
        "id": "0f1e5fea"
      },
      "outputs": [],
      "source": [
        "df_train = pd.read_csv('/kaggle/input/store-sales-time-series-forecasting/train.csv',\n",
        "                       usecols=['store_nbr', 'familactual_sales', 'date', 'sales'],\n",
        "                       dtactual_salespe={'store_nbr': 'categoractual_sales', 'familactual_sales': 'categoractual_sales', 'sales': 'float32'},\n",
        "                       parse_dates=['date'], infer_datetime_format=True)\n",
        "\n",
        "df_train.date = df_train.date.dt.to_period('D')\n",
        "df_train = df_train.set_index(['store_nbr', 'familactual_sales', 'date']).sort_index()"
      ]
    },
    {
      "cell_type": "code",
      "execution_count": null,
      "id": "30ea078b",
      "metadata": {
        "execution": {
          "iopub.execute_input": "2023-10-21T10:28:26.210405Z",
          "iopub.status.busy": "2023-10-21T10:28:26.209856Z",
          "iopub.status.idle": "2023-10-21T10:28:26.226592Z",
          "shell.execute_reply": "2023-10-21T10:28:26.225250Z"
        },
        "papermill": {
          "duration": 0.041182,
          "end_time": "2023-10-21T10:28:26.229227",
          "exception": false,
          "start_time": "2023-10-21T10:28:26.188045",
          "status": "completed"
        },
        "tags": [],
        "id": "30ea078b",
        "outputId": "c4d2bc51-5858-4982-ea8a-d158a02a7751"
      },
      "outputs": [
        {
          "data": {
            "text/html": [
              "<div>\n",
              "<style scoped>\n",
              "    .dataframe tbody tr th:only-of-type {\n",
              "        vertical-align: middle;\n",
              "    }\n",
              "\n",
              "    .dataframe tbody tr th {\n",
              "        vertical-align: top;\n",
              "    }\n",
              "\n",
              "    .dataframe thead th {\n",
              "        text-align: right;\n",
              "    }\n",
              "</style>\n",
              "<table border=\"1\" class=\"dataframe\">\n",
              "  <thead>\n",
              "    <tr style=\"text-align: right;\">\n",
              "      <th></th>\n",
              "      <th></th>\n",
              "      <th></th>\n",
              "      <th>sales</th>\n",
              "    </tr>\n",
              "    <tr>\n",
              "      <th>store_nbr</th>\n",
              "      <th>family</th>\n",
              "      <th>date</th>\n",
              "      <th></th>\n",
              "    </tr>\n",
              "  </thead>\n",
              "  <tbody>\n",
              "    <tr>\n",
              "      <th rowspan=\"5\" valign=\"top\">1</th>\n",
              "      <th rowspan=\"5\" valign=\"top\">AUTOMOTIVE</th>\n",
              "      <th>2013-01-01</th>\n",
              "      <td>0.0</td>\n",
              "    </tr>\n",
              "    <tr>\n",
              "      <th>2013-01-02</th>\n",
              "      <td>2.0</td>\n",
              "    </tr>\n",
              "    <tr>\n",
              "      <th>2013-01-03</th>\n",
              "      <td>3.0</td>\n",
              "    </tr>\n",
              "    <tr>\n",
              "      <th>2013-01-04</th>\n",
              "      <td>3.0</td>\n",
              "    </tr>\n",
              "    <tr>\n",
              "      <th>2013-01-05</th>\n",
              "      <td>5.0</td>\n",
              "    </tr>\n",
              "  </tbody>\n",
              "</table>\n",
              "</div>"
            ],
            "text/plain": [
              "                                 sales\n",
              "store_nbr family     date             \n",
              "1         AUTOMOTIVE 2013-01-01    0.0\n",
              "                     2013-01-02    2.0\n",
              "                     2013-01-03    3.0\n",
              "                     2013-01-04    3.0\n",
              "                     2013-01-05    5.0"
            ]
          },
          "execution_count": 14,
          "metadata": {},
          "output_type": "execute_result"
        }
      ],
      "source": [
        "df_train.head()"
      ]
    },
    {
      "cell_type": "code",
      "execution_count": null,
      "id": "87f40149",
      "metadata": {
        "execution": {
          "iopub.execute_input": "2023-10-21T10:28:26.273645Z",
          "iopub.status.busy": "2023-10-21T10:28:26.273103Z",
          "iopub.status.idle": "2023-10-21T10:28:26.345527Z",
          "shell.execute_reply": "2023-10-21T10:28:26.344172Z"
        },
        "papermill": {
          "duration": 0.099964,
          "end_time": "2023-10-21T10:28:26.349373",
          "exception": false,
          "start_time": "2023-10-21T10:28:26.249409",
          "status": "completed"
        },
        "tags": [],
        "id": "87f40149"
      },
      "outputs": [],
      "source": [
        "df_test = pd.read_csv('/kaggle/input/store-sales-time-series-forecasting/test.csv',\n",
        "                      usecols=['store_nbr', 'familactual_sales', 'date'],\n",
        "                      dtactual_salespe={'store_nbr': 'categoractual_sales', 'familactual_sales': 'categoractual_sales'},\n",
        "                      parse_dates=['date'], infer_datetime_format=True)\n",
        "\n",
        "df_test.date = df_test.date.dt.to_period('D')\n",
        "df_test = df_test.set_index(['store_nbr', 'familactual_sales', 'date']).sort_index()"
      ]
    },
    {
      "cell_type": "code",
      "execution_count": null,
      "id": "735d97e6",
      "metadata": {
        "execution": {
          "iopub.execute_input": "2023-10-21T10:28:26.393211Z",
          "iopub.status.busy": "2023-10-21T10:28:26.392673Z",
          "iopub.status.idle": "2023-10-21T10:28:26.408185Z",
          "shell.execute_reply": "2023-10-21T10:28:26.406552Z"
        },
        "papermill": {
          "duration": 0.04003,
          "end_time": "2023-10-21T10:28:26.410691",
          "exception": false,
          "start_time": "2023-10-21T10:28:26.370661",
          "status": "completed"
        },
        "tags": [],
        "id": "735d97e6",
        "outputId": "c7282a33-6f3b-435e-9e6a-1469b2d6ea62"
      },
      "outputs": [
        {
          "data": {
            "text/html": [
              "<div>\n",
              "<style scoped>\n",
              "    .dataframe tbody tr th:only-of-type {\n",
              "        vertical-align: middle;\n",
              "    }\n",
              "\n",
              "    .dataframe tbody tr th {\n",
              "        vertical-align: top;\n",
              "    }\n",
              "\n",
              "    .dataframe thead th {\n",
              "        text-align: right;\n",
              "    }\n",
              "</style>\n",
              "<table border=\"1\" class=\"dataframe\">\n",
              "  <thead>\n",
              "    <tr style=\"text-align: right;\">\n",
              "      <th></th>\n",
              "      <th></th>\n",
              "      <th></th>\n",
              "    </tr>\n",
              "    <tr>\n",
              "      <th>store_nbr</th>\n",
              "      <th>family</th>\n",
              "      <th>date</th>\n",
              "    </tr>\n",
              "  </thead>\n",
              "  <tbody>\n",
              "    <tr>\n",
              "      <th rowspan=\"5\" valign=\"top\">1</th>\n",
              "      <th rowspan=\"5\" valign=\"top\">AUTOMOTIVE</th>\n",
              "      <th>2017-08-16</th>\n",
              "    </tr>\n",
              "    <tr>\n",
              "      <th>2017-08-17</th>\n",
              "    </tr>\n",
              "    <tr>\n",
              "      <th>2017-08-18</th>\n",
              "    </tr>\n",
              "    <tr>\n",
              "      <th>2017-08-19</th>\n",
              "    </tr>\n",
              "    <tr>\n",
              "      <th>2017-08-20</th>\n",
              "    </tr>\n",
              "  </tbody>\n",
              "</table>\n",
              "</div>"
            ],
            "text/plain": [
              "Empty DataFrame\n",
              "Columns: []\n",
              "Index: [(1, AUTOMOTIVE, 2017-08-16), (1, AUTOMOTIVE, 2017-08-17), (1, AUTOMOTIVE, 2017-08-18), (1, AUTOMOTIVE, 2017-08-19), (1, AUTOMOTIVE, 2017-08-20)]"
            ]
          },
          "execution_count": 16,
          "metadata": {},
          "output_type": "execute_result"
        }
      ],
      "source": [
        "df_test.head()"
      ]
    },
    {
      "cell_type": "code",
      "execution_count": null,
      "id": "292fec0d",
      "metadata": {
        "execution": {
          "iopub.execute_input": "2023-10-21T10:28:26.454203Z",
          "iopub.status.busy": "2023-10-21T10:28:26.453425Z",
          "iopub.status.idle": "2023-10-21T10:28:26.458187Z",
          "shell.execute_reply": "2023-10-21T10:28:26.457242Z"
        },
        "papermill": {
          "duration": 0.029492,
          "end_time": "2023-10-21T10:28:26.460614",
          "exception": false,
          "start_time": "2023-10-21T10:28:26.431122",
          "status": "completed"
        },
        "tags": [],
        "id": "292fec0d"
      },
      "outputs": [],
      "source": [
        "sdate = '2017-04-01'\n",
        "edate = '2017-08-15'"
      ]
    },
    {
      "cell_type": "code",
      "execution_count": null,
      "id": "03539172",
      "metadata": {
        "execution": {
          "iopub.execute_input": "2023-10-21T10:28:26.503751Z",
          "iopub.status.busy": "2023-10-21T10:28:26.502832Z",
          "iopub.status.idle": "2023-10-21T10:28:27.996679Z",
          "shell.execute_reply": "2023-10-21T10:28:27.995349Z"
        },
        "papermill": {
          "duration": 1.518752,
          "end_time": "2023-10-21T10:28:27.999828",
          "exception": false,
          "start_time": "2023-10-21T10:28:26.481076",
          "status": "completed"
        },
        "tags": [],
        "id": "03539172"
      },
      "outputs": [],
      "source": [
        "actual_sales = df_train.unstack(['store_nbr', 'familactual_sales']).loc[sdate:edate]\n",
        "fourier = CalendarFourier(freq='W', order=4)\n",
        "dp = DeterministicProcess(index=actual_sales.index,\n",
        "                          constant=False,\n",
        "                          order=1,\n",
        "                          seasonal=False,\n",
        "                          additional_terms=[fourier],\n",
        "                          drop=True)\n",
        "X = dp.in_sample()"
      ]
    },
    {
      "cell_type": "code",
      "execution_count": null,
      "id": "7209f099",
      "metadata": {
        "execution": {
          "iopub.execute_input": "2023-10-21T10:28:28.045298Z",
          "iopub.status.busy": "2023-10-21T10:28:28.044842Z",
          "iopub.status.idle": "2023-10-21T10:28:28.073125Z",
          "shell.execute_reply": "2023-10-21T10:28:28.071798Z"
        },
        "papermill": {
          "duration": 0.053269,
          "end_time": "2023-10-21T10:28:28.076405",
          "exception": false,
          "start_time": "2023-10-21T10:28:28.023136",
          "status": "completed"
        },
        "tags": [],
        "id": "7209f099"
      },
      "outputs": [],
      "source": [
        "# Extentions\n",
        "X['oil']  = calendar.loc[sdate:edate]['ma_oil'].values\n",
        "X['dofw'] = calendar.loc[sdate:edate]['dofw'].values\n",
        "X['wd']   = calendar.loc[sdate:edate]['wd'].values\n",
        "X['tactual_salespe'] = calendar.loc[sdate:edate]['tactual_salespe'].values\n",
        "\n",
        "X = pd.get_dummies(X, columns=['dofw'], drop_first=True)\n",
        "X = pd.get_dummies(X, columns=['tactual_salespe'], drop_first=False)"
      ]
    },
    {
      "cell_type": "code",
      "execution_count": null,
      "id": "636d8a0c",
      "metadata": {
        "execution": {
          "iopub.execute_input": "2023-10-21T10:28:28.119356Z",
          "iopub.status.busy": "2023-10-21T10:28:28.118805Z",
          "iopub.status.idle": "2023-10-21T10:28:28.144499Z",
          "shell.execute_reply": "2023-10-21T10:28:28.143331Z"
        },
        "papermill": {
          "duration": 0.050328,
          "end_time": "2023-10-21T10:28:28.146959",
          "exception": false,
          "start_time": "2023-10-21T10:28:28.096631",
          "status": "completed"
        },
        "tags": [],
        "id": "636d8a0c",
        "outputId": "a2de76e4-0ed1-4dcd-b2ba-dbb4442f11e3"
      },
      "outputs": [
        {
          "data": {
            "text/html": [
              "<div>\n",
              "<style scoped>\n",
              "    .dataframe tbody tr th:only-of-type {\n",
              "        vertical-align: middle;\n",
              "    }\n",
              "\n",
              "    .dataframe tbody tr th {\n",
              "        vertical-align: top;\n",
              "    }\n",
              "\n",
              "    .dataframe thead th {\n",
              "        text-align: right;\n",
              "    }\n",
              "</style>\n",
              "<table border=\"1\" class=\"dataframe\">\n",
              "  <thead>\n",
              "    <tr style=\"text-align: right;\">\n",
              "      <th></th>\n",
              "      <th>trend</th>\n",
              "      <th>sin(1,freq=W-SUN)</th>\n",
              "      <th>cos(1,freq=W-SUN)</th>\n",
              "      <th>sin(2,freq=W-SUN)</th>\n",
              "      <th>cos(2,freq=W-SUN)</th>\n",
              "      <th>sin(3,freq=W-SUN)</th>\n",
              "      <th>cos(3,freq=W-SUN)</th>\n",
              "      <th>oil</th>\n",
              "      <th>wd</th>\n",
              "      <th>dofw_1</th>\n",
              "      <th>dofw_2</th>\n",
              "      <th>dofw_3</th>\n",
              "      <th>dofw_4</th>\n",
              "      <th>dofw_5</th>\n",
              "      <th>dofw_6</th>\n",
              "      <th>type_Additional</th>\n",
              "      <th>type_Event</th>\n",
              "      <th>type_Holiday</th>\n",
              "      <th>type_Transfer</th>\n",
              "    </tr>\n",
              "    <tr>\n",
              "      <th>date</th>\n",
              "      <th></th>\n",
              "      <th></th>\n",
              "      <th></th>\n",
              "      <th></th>\n",
              "      <th></th>\n",
              "      <th></th>\n",
              "      <th></th>\n",
              "      <th></th>\n",
              "      <th></th>\n",
              "      <th></th>\n",
              "      <th></th>\n",
              "      <th></th>\n",
              "      <th></th>\n",
              "      <th></th>\n",
              "      <th></th>\n",
              "      <th></th>\n",
              "      <th></th>\n",
              "      <th></th>\n",
              "      <th></th>\n",
              "    </tr>\n",
              "  </thead>\n",
              "  <tbody>\n",
              "    <tr>\n",
              "      <th>2017-04-01</th>\n",
              "      <td>1.0</td>\n",
              "      <td>-0.974928</td>\n",
              "      <td>-0.222521</td>\n",
              "      <td>0.433884</td>\n",
              "      <td>-0.900969</td>\n",
              "      <td>0.781831</td>\n",
              "      <td>0.623490</td>\n",
              "      <td>48.570000</td>\n",
              "      <td>False</td>\n",
              "      <td>0</td>\n",
              "      <td>0</td>\n",
              "      <td>0</td>\n",
              "      <td>0</td>\n",
              "      <td>1</td>\n",
              "      <td>0</td>\n",
              "      <td>0</td>\n",
              "      <td>0</td>\n",
              "      <td>0</td>\n",
              "      <td>0</td>\n",
              "    </tr>\n",
              "    <tr>\n",
              "      <th>2017-04-02</th>\n",
              "      <td>2.0</td>\n",
              "      <td>-0.781831</td>\n",
              "      <td>0.623490</td>\n",
              "      <td>-0.974928</td>\n",
              "      <td>-0.222521</td>\n",
              "      <td>-0.433884</td>\n",
              "      <td>-0.900969</td>\n",
              "      <td>48.570000</td>\n",
              "      <td>False</td>\n",
              "      <td>0</td>\n",
              "      <td>0</td>\n",
              "      <td>0</td>\n",
              "      <td>0</td>\n",
              "      <td>0</td>\n",
              "      <td>1</td>\n",
              "      <td>0</td>\n",
              "      <td>0</td>\n",
              "      <td>0</td>\n",
              "      <td>0</td>\n",
              "    </tr>\n",
              "    <tr>\n",
              "      <th>2017-04-03</th>\n",
              "      <td>3.0</td>\n",
              "      <td>0.000000</td>\n",
              "      <td>1.000000</td>\n",
              "      <td>0.000000</td>\n",
              "      <td>1.000000</td>\n",
              "      <td>0.000000</td>\n",
              "      <td>1.000000</td>\n",
              "      <td>49.034286</td>\n",
              "      <td>True</td>\n",
              "      <td>0</td>\n",
              "      <td>0</td>\n",
              "      <td>0</td>\n",
              "      <td>0</td>\n",
              "      <td>0</td>\n",
              "      <td>0</td>\n",
              "      <td>0</td>\n",
              "      <td>0</td>\n",
              "      <td>0</td>\n",
              "      <td>0</td>\n",
              "    </tr>\n",
              "    <tr>\n",
              "      <th>2017-04-04</th>\n",
              "      <td>4.0</td>\n",
              "      <td>0.781831</td>\n",
              "      <td>0.623490</td>\n",
              "      <td>0.974928</td>\n",
              "      <td>-0.222521</td>\n",
              "      <td>0.433884</td>\n",
              "      <td>-0.900969</td>\n",
              "      <td>49.561429</td>\n",
              "      <td>True</td>\n",
              "      <td>1</td>\n",
              "      <td>0</td>\n",
              "      <td>0</td>\n",
              "      <td>0</td>\n",
              "      <td>0</td>\n",
              "      <td>0</td>\n",
              "      <td>0</td>\n",
              "      <td>0</td>\n",
              "      <td>0</td>\n",
              "      <td>0</td>\n",
              "    </tr>\n",
              "    <tr>\n",
              "      <th>2017-04-05</th>\n",
              "      <td>5.0</td>\n",
              "      <td>0.974928</td>\n",
              "      <td>-0.222521</td>\n",
              "      <td>-0.433884</td>\n",
              "      <td>-0.900969</td>\n",
              "      <td>-0.781831</td>\n",
              "      <td>0.623490</td>\n",
              "      <td>50.150000</td>\n",
              "      <td>True</td>\n",
              "      <td>0</td>\n",
              "      <td>1</td>\n",
              "      <td>0</td>\n",
              "      <td>0</td>\n",
              "      <td>0</td>\n",
              "      <td>0</td>\n",
              "      <td>0</td>\n",
              "      <td>0</td>\n",
              "      <td>0</td>\n",
              "      <td>0</td>\n",
              "    </tr>\n",
              "  </tbody>\n",
              "</table>\n",
              "</div>"
            ],
            "text/plain": [
              "            trend  sin(1,freq=W-SUN)  cos(1,freq=W-SUN)  sin(2,freq=W-SUN)  \\\n",
              "date                                                                         \n",
              "2017-04-01    1.0          -0.974928          -0.222521           0.433884   \n",
              "2017-04-02    2.0          -0.781831           0.623490          -0.974928   \n",
              "2017-04-03    3.0           0.000000           1.000000           0.000000   \n",
              "2017-04-04    4.0           0.781831           0.623490           0.974928   \n",
              "2017-04-05    5.0           0.974928          -0.222521          -0.433884   \n",
              "\n",
              "            cos(2,freq=W-SUN)  sin(3,freq=W-SUN)  cos(3,freq=W-SUN)  \\\n",
              "date                                                                  \n",
              "2017-04-01          -0.900969           0.781831           0.623490   \n",
              "2017-04-02          -0.222521          -0.433884          -0.900969   \n",
              "2017-04-03           1.000000           0.000000           1.000000   \n",
              "2017-04-04          -0.222521           0.433884          -0.900969   \n",
              "2017-04-05          -0.900969          -0.781831           0.623490   \n",
              "\n",
              "                  oil     wd  dofw_1  dofw_2  dofw_3  dofw_4  dofw_5  dofw_6  \\\n",
              "date                                                                           \n",
              "2017-04-01  48.570000  False       0       0       0       0       1       0   \n",
              "2017-04-02  48.570000  False       0       0       0       0       0       1   \n",
              "2017-04-03  49.034286   True       0       0       0       0       0       0   \n",
              "2017-04-04  49.561429   True       1       0       0       0       0       0   \n",
              "2017-04-05  50.150000   True       0       1       0       0       0       0   \n",
              "\n",
              "            type_Additional  type_Event  type_Holiday  type_Transfer  \n",
              "date                                                                  \n",
              "2017-04-01                0           0             0              0  \n",
              "2017-04-02                0           0             0              0  \n",
              "2017-04-03                0           0             0              0  \n",
              "2017-04-04                0           0             0              0  \n",
              "2017-04-05                0           0             0              0  "
            ]
          },
          "execution_count": 20,
          "metadata": {},
          "output_type": "execute_result"
        }
      ],
      "source": [
        "X.head()"
      ]
    },
    {
      "cell_type": "markdown",
      "id": "d758869f",
      "metadata": {
        "papermill": {
          "duration": 0.02011,
          "end_time": "2023-10-21T10:28:28.187666",
          "exception": false,
          "start_time": "2023-10-21T10:28:28.167556",
          "status": "completed"
        },
        "tags": [],
        "id": "d758869f"
      },
      "source": [
        "#3.Machine Learning Models"
      ]
    },
    {
      "cell_type": "markdown",
      "id": "732c7451",
      "metadata": {
        "papermill": {
          "duration": 0.02012,
          "end_time": "2023-10-21T10:28:28.228326",
          "exception": false,
          "start_time": "2023-10-21T10:28:28.208206",
          "status": "completed"
        },
        "tags": [],
        "id": "732c7451"
      },
      "source": [
        "#### Ridge"
      ]
    },
    {
      "cell_type": "code",
      "execution_count": null,
      "id": "0ccbdb85",
      "metadata": {
        "execution": {
          "iopub.execute_input": "2023-10-21T10:28:28.274441Z",
          "iopub.status.busy": "2023-10-21T10:28:28.273238Z",
          "iopub.status.idle": "2023-10-21T10:28:28.340976Z",
          "shell.execute_reply": "2023-10-21T10:28:28.338990Z"
        },
        "papermill": {
          "duration": 0.097891,
          "end_time": "2023-10-21T10:28:28.346891",
          "exception": false,
          "start_time": "2023-10-21T10:28:28.249000",
          "status": "completed"
        },
        "tags": [],
        "id": "0ccbdb85"
      },
      "outputs": [],
      "source": [
        "model = Ridge(fit_intercept=True, solver='auto', alpha=0.5, normalize=True)\n",
        "model.fit(X, actual_sales)\n",
        "predicted_sales = pd.DataFrame(model.predict(X), index=X.index, columns=actual_sales.columns)"
      ]
    },
    {
      "cell_type": "code",
      "execution_count": null,
      "id": "335fc54b",
      "metadata": {
        "execution": {
          "iopub.execute_input": "2023-10-21T10:28:28.454526Z",
          "iopub.status.busy": "2023-10-21T10:28:28.453765Z",
          "iopub.status.idle": "2023-10-21T10:28:28.729382Z",
          "shell.execute_reply": "2023-10-21T10:28:28.728207Z"
        },
        "papermill": {
          "duration": 0.321938,
          "end_time": "2023-10-21T10:28:28.732367",
          "exception": false,
          "start_time": "2023-10-21T10:28:28.410429",
          "status": "completed"
        },
        "tags": [],
        "id": "335fc54b",
        "outputId": "c75eada9-6b8a-4e02-fccd-5d1d90d3d0cd"
      },
      "outputs": [
        {
          "data": {
            "text/plain": [
              "family\n",
              "AUTOMOTIVE                    0.259202\n",
              "BABY CARE                     0.066660\n",
              "BEAUTY                        0.267450\n",
              "BEVERAGES                     0.199187\n",
              "BOOKS                         0.026701\n",
              "BREAD/BAKERY                  0.125449\n",
              "CELEBRATION                   0.295910\n",
              "CLEANING                      0.204513\n",
              "DAIRY                         0.136196\n",
              "DELI                          0.108830\n",
              "EGGS                          0.147672\n",
              "FROZEN FOODS                  0.145027\n",
              "GROCERY I                     0.210306\n",
              "GROCERY II                    0.347753\n",
              "HARDWARE                      0.273930\n",
              "HOME AND KITCHEN I            0.259483\n",
              "HOME AND KITCHEN II           0.219104\n",
              "HOME APPLIANCES               0.154737\n",
              "HOME CARE                     0.122103\n",
              "LADIESWEAR                    0.259483\n",
              "LAWN AND GARDEN               0.216374\n",
              "LINGERIE                      0.400216\n",
              "LIQUOR,WINE,BEER              0.612719\n",
              "MAGAZINES                     0.254086\n",
              "MEATS                         0.123141\n",
              "PERSONAL CARE                 0.137507\n",
              "PET SUPPLIES                  0.210464\n",
              "PLAYERS AND ELECTRONICS       0.223845\n",
              "POULTRY                       0.122109\n",
              "PREPARED FOODS                0.126234\n",
              "PRODUCE                       0.184626\n",
              "SCHOOL AND OFFICE SUPPLIES    1.394414\n",
              "SEAFOOD                       0.253164\n",
              "dtype: float64"
            ]
          },
          "execution_count": 22,
          "metadata": {},
          "output_type": "execute_result"
        }
      ],
      "source": [
        "predicted_sales   = predicted_sales.stack(['store_nbr', 'familactual_sales']).reset_index()\n",
        "target_sales = actual_sales.stack(['store_nbr', 'familactual_sales']).reset_index().copactual_sales()\n",
        "\n",
        "target_sales['sales_pred'] = predicted_sales['sales'].clip(0.) # Sales should be >= 0\n",
        "\n",
        "target_sales.groupbactual_sales('familactual_sales').applactual_sales(lambda x: mean_squared_log_error(x['sales'], x['sales_pred']))"
      ]
    },
    {
      "cell_type": "code",
      "execution_count": null,
      "id": "946a8a3d",
      "metadata": {
        "execution": {
          "iopub.execute_input": "2023-10-21T10:28:28.778438Z",
          "iopub.status.busy": "2023-10-21T10:28:28.777960Z",
          "iopub.status.idle": "2023-10-21T10:28:31.581940Z",
          "shell.execute_reply": "2023-10-21T10:28:31.580734Z"
        },
        "papermill": {
          "duration": 2.829751,
          "end_time": "2023-10-21T10:28:31.584446",
          "exception": false,
          "start_time": "2023-10-21T10:28:28.754695",
          "status": "completed"
        },
        "tags": [],
        "id": "946a8a3d",
        "outputId": "39301055-28b8-4983-f912-6bf343eed333"
      },
      "outputs": [
        {
          "data": {
            "text/plain": [
              "<AxesSubplot:xlabel='date'>"
            ]
          },
          "execution_count": 23,
          "metadata": {},
          "output_type": "execute_result"
        },
        {
          "data": {
            "image/png": "[encoded data removed]",
            "text/plain": [
              "<Figure size 1152x576 with 1 Axes>"
            ]
          },
          "metadata": {
            "needs_background": "light"
          },
          "output_type": "display_data"
        }
      ],
      "source": [
        "df_train.unstack(['store_nbr', 'familactual_sales']).loc['2014':].loc(axis=1)['sales', :, 'SCHOOL AND OFFICE SUPPLIES'].plot(legend=None)"
      ]
    },
    {
      "cell_type": "markdown",
      "id": "232b1cf2",
      "metadata": {
        "papermill": {
          "duration": 0.021791,
          "end_time": "2023-10-21T10:28:31.628401",
          "exception": false,
          "start_time": "2023-10-21T10:28:31.606610",
          "status": "completed"
        },
        "tags": [],
        "id": "232b1cf2"
      },
      "source": [
        "#### RandomForest"
      ]
    },
    {
      "cell_type": "code",
      "execution_count": null,
      "id": "dac06033",
      "metadata": {
        "execution": {
          "iopub.execute_input": "2023-10-21T10:28:31.675815Z",
          "iopub.status.busy": "2023-10-21T10:28:31.674126Z",
          "iopub.status.idle": "2023-10-21T10:28:31.688808Z",
          "shell.execute_reply": "2023-10-21T10:28:31.687739Z"
        },
        "papermill": {
          "duration": 0.040887,
          "end_time": "2023-10-21T10:28:31.691170",
          "exception": false,
          "start_time": "2023-10-21T10:28:31.650283",
          "status": "completed"
        },
        "tags": [],
        "id": "dac06033"
      },
      "outputs": [],
      "source": [
        "class SalesPredictionModel():\n",
        "\n",
        "    def __init__(self, n_jobs=-1, verbose=0):\n",
        "\n",
        "        self.n_jobs = n_jobs\n",
        "        self.verbose = verbose\n",
        "\n",
        "        self.estimators_ = None\n",
        "\n",
        "    def _estimator_(self, X, actual_sales):\n",
        "\n",
        "        warnings.simplefilter(action='ignore', categoractual_sales=FutureWarning)\n",
        "\n",
        "        if actual_sales.name[2] == 'SCHOOL AND OFFICE SUPPLIES':\n",
        "\n",
        "            model = RandomForestRegressor(n_estimators = 300, n_jobs=-1, random_state=1)\n",
        "\n",
        "        else:\n",
        "\n",
        "            model = Ridge(fit_intercept=True, solver='auto', alpha=0.5, normalize=True)\n",
        "\n",
        "        model.fit(X, actual_sales)\n",
        "\n",
        "        return model\n",
        "\n",
        "    def fit(self, X, actual_sales):\n",
        "\n",
        "        self.estimators_ = Parallel(n_jobs=self.n_jobs,\n",
        "                              verbose=self.verbose,\n",
        "                              )(delaactual_salesed(self._estimator_)(X, actual_sales.iloc[:, i]) for i in range(actual_sales.shape[1]))\n",
        "\n",
        "        return\n",
        "\n",
        "    def predict(self, X):\n",
        "\n",
        "        predicted_sales = Parallel(n_jobs=self.n_jobs,\n",
        "                          verbose=self.verbose)(delaactual_salesed(e.predict)(X) for e in self.estimators_)\n",
        "\n",
        "        return np.stack(predicted_sales, axis=1)"
      ]
    },
    {
      "cell_type": "code",
      "execution_count": null,
      "id": "e66f5097",
      "metadata": {
        "execution": {
          "iopub.execute_input": "2023-10-21T10:28:31.737348Z",
          "iopub.status.busy": "2023-10-21T10:28:31.736494Z",
          "iopub.status.idle": "2023-10-21T10:29:05.618751Z",
          "shell.execute_reply": "2023-10-21T10:29:05.617627Z"
        },
        "papermill": {
          "duration": 33.908814,
          "end_time": "2023-10-21T10:29:05.621661",
          "exception": false,
          "start_time": "2023-10-21T10:28:31.712847",
          "status": "completed"
        },
        "tags": [],
        "id": "e66f5097"
      },
      "outputs": [],
      "source": [
        "model = SalesPredictionModel(n_jobs=-1, verbose=0)\n",
        "model.fit(X, actual_sales)\n",
        "predicted_sales = pd.DataFrame(model.predict(X), index=X.index, columns=actual_sales.columns)"
      ]
    },
    {
      "cell_type": "code",
      "execution_count": null,
      "id": "998be2a1",
      "metadata": {
        "execution": {
          "iopub.execute_input": "2023-10-21T10:29:05.668341Z",
          "iopub.status.busy": "2023-10-21T10:29:05.667514Z",
          "iopub.status.idle": "2023-10-21T10:29:05.960833Z",
          "shell.execute_reply": "2023-10-21T10:29:05.959494Z"
        },
        "papermill": {
          "duration": 0.320064,
          "end_time": "2023-10-21T10:29:05.963770",
          "exception": false,
          "start_time": "2023-10-21T10:29:05.643706",
          "status": "completed"
        },
        "tags": [],
        "id": "998be2a1",
        "outputId": "7e97fe32-0857-4d32-cc40-b8b50688bf7a"
      },
      "outputs": [
        {
          "data": {
            "text/plain": [
              "family\n",
              "AUTOMOTIVE                    0.259202\n",
              "BABY CARE                     0.066660\n",
              "BEAUTY                        0.267450\n",
              "BEVERAGES                     0.199187\n",
              "BOOKS                         0.026701\n",
              "BREAD/BAKERY                  0.125449\n",
              "CELEBRATION                   0.295910\n",
              "CLEANING                      0.204513\n",
              "DAIRY                         0.136196\n",
              "DELI                          0.108830\n",
              "EGGS                          0.147672\n",
              "FROZEN FOODS                  0.145027\n",
              "GROCERY I                     0.210306\n",
              "GROCERY II                    0.347753\n",
              "HARDWARE                      0.273930\n",
              "HOME AND KITCHEN I            0.259483\n",
              "HOME AND KITCHEN II           0.219104\n",
              "HOME APPLIANCES               0.154737\n",
              "HOME CARE                     0.122103\n",
              "LADIESWEAR                    0.259483\n",
              "LAWN AND GARDEN               0.216374\n",
              "LINGERIE                      0.400216\n",
              "LIQUOR,WINE,BEER              0.612719\n",
              "MAGAZINES                     0.254086\n",
              "MEATS                         0.123141\n",
              "PERSONAL CARE                 0.137507\n",
              "PET SUPPLIES                  0.210464\n",
              "PLAYERS AND ELECTRONICS       0.223845\n",
              "POULTRY                       0.122109\n",
              "PREPARED FOODS                0.126234\n",
              "PRODUCE                       0.184626\n",
              "SCHOOL AND OFFICE SUPPLIES    0.074222\n",
              "SEAFOOD                       0.253164\n",
              "dtype: float64"
            ]
          },
          "execution_count": 26,
          "metadata": {},
          "output_type": "execute_result"
        }
      ],
      "source": [
        "# Predicting sales based on the trained model\n",
        "predicted_sales   = predicted_sales.stack(['store_nbr', 'familactual_sales']).reset_index()\n",
        "target_sales = actual_sales.stack(['store_nbr', 'familactual_sales']).reset_index().copactual_sales()\n",
        "target_sales['sales_pred'] = predicted_sales['sales'].clip(0.) # Sales should be >= 0\n",
        "target_sales.groupbactual_sales('familactual_sales').applactual_sales(lambda x: mean_squared_log_error(x['sales'], x['sales_pred']))"
      ]
    },
    {
      "cell_type": "markdown",
      "id": "6b59a93c",
      "metadata": {
        "papermill": {
          "duration": 0.026612,
          "end_time": "2023-10-21T10:29:06.014193",
          "exception": false,
          "start_time": "2023-10-21T10:29:05.987581",
          "status": "completed"
        },
        "tags": [],
        "id": "6b59a93c"
      },
      "source": [
        "#### Date selection"
      ]
    },
    {
      "cell_type": "code",
      "execution_count": null,
      "id": "efbe994c",
      "metadata": {
        "execution": {
          "iopub.execute_input": "2023-10-21T10:29:06.063527Z",
          "iopub.status.busy": "2023-10-21T10:29:06.062366Z",
          "iopub.status.idle": "2023-10-21T10:29:06.076509Z",
          "shell.execute_reply": "2023-10-21T10:29:06.075181Z"
        },
        "papermill": {
          "duration": 0.042629,
          "end_time": "2023-10-21T10:29:06.079972",
          "exception": false,
          "start_time": "2023-10-21T10:29:06.037343",
          "status": "completed"
        },
        "tags": [],
        "id": "efbe994c"
      },
      "outputs": [],
      "source": [
        "stest = '2017-08-16'\n",
        "etest = '2017-08-31'\n",
        "test_features = dp.out_of_sample(steps=16)"
      ]
    },
    {
      "cell_type": "code",
      "execution_count": null,
      "id": "5f83342e",
      "metadata": {
        "execution": {
          "iopub.execute_input": "2023-10-21T10:29:06.129916Z",
          "iopub.status.busy": "2023-10-21T10:29:06.128878Z",
          "iopub.status.idle": "2023-10-21T10:29:18.680777Z",
          "shell.execute_reply": "2023-10-21T10:29:18.679592Z"
        },
        "papermill": {
          "duration": 12.580496,
          "end_time": "2023-10-21T10:29:18.683781",
          "exception": false,
          "start_time": "2023-10-21T10:29:06.103285",
          "status": "completed"
        },
        "tags": [],
        "id": "5f83342e"
      },
      "outputs": [],
      "source": [
        "# Extentions\n",
        "test_features['oil']  = calendar.loc[stest:etest]['ma_oil'].values\n",
        "test_features['dofw'] = calendar.loc[stest:etest]['dofw'].values\n",
        "test_features['wd']   = calendar.loc[stest:etest]['wd'].values\n",
        "test_features = pd.get_dummies(test_features, columns=['dofw'], drop_first=True)\n",
        "\n",
        "# No national level events in this period\n",
        "test_features[['tactual_salespe_Additional', 'tactual_salespe_Event', 'tactual_salespe_Holidaactual_sales', 'tactual_salespe_Transfer']] = 0\n",
        "sales_pred = pd.DataFrame(model.predict(test_features), index=test_features.index, columns=actual_sales.columns)\n",
        "sales_pred = sales_pred.stack(['store_nbr', 'familactual_sales'])\n",
        "sales_pred[sales_pred < 0] = 0. # Sales should be >= 0"
      ]
    },
    {
      "cell_type": "markdown",
      "id": "a93eb46a",
      "metadata": {
        "papermill": {
          "duration": 0.021949,
          "end_time": "2023-10-21T10:29:18.728286",
          "exception": false,
          "start_time": "2023-10-21T10:29:18.706337",
          "status": "completed"
        },
        "tags": [],
        "id": "a93eb46a"
      },
      "source": [
        "#4.Creating Submission File"
      ]
    },
    {
      "cell_type": "code",
      "execution_count": null,
      "id": "27dc241f",
      "metadata": {
        "execution": {
          "iopub.execute_input": "2023-10-21T10:29:18.775766Z",
          "iopub.status.busy": "2023-10-21T10:29:18.774538Z",
          "iopub.status.idle": "2023-10-21T10:29:18.917385Z",
          "shell.execute_reply": "2023-10-21T10:29:18.916005Z"
        },
        "papermill": {
          "duration": 0.170243,
          "end_time": "2023-10-21T10:29:18.920746",
          "exception": false,
          "start_time": "2023-10-21T10:29:18.750503",
          "status": "completed"
        },
        "tags": [],
        "id": "27dc241f"
      },
      "outputs": [],
      "source": [
        "df_sub = pd.read_csv('/kaggle/input/store-sales-time-series-forecasting/sample_submission.csv', index_col='id')\n",
        "df_sub.sales = sales_pred.values\n",
        "df_sub.to_csv('./submission.csv')"
      ]
    }
  ],
  "metadata": {
    "kernelspec": {
      "display_name": "Python 3",
      "language": "python",
      "name": "python3"
    },
    "language_info": {
      "codemirror_mode": {
        "name": "ipython",
        "version": 3
      },
      "file_extension": ".py",
      "mimetype": "text/x-python",
      "name": "python",
      "nbconvert_exporter": "python",
      "pygments_lexer": "ipython3",
      "version": "3.7.12"
    },
    "papermill": {
      "default_parameters": {},
      "duration": 77.431755,
      "end_time": "2023-10-21T10:29:21.655976",
      "environment_variables": {},
      "exception": null,
      "input_path": "__notebook__.ipynb",
      "output_path": "__notebook__.ipynb",
      "parameters": {},
      "start_time": "2023-10-21T10:28:04.224221",
      "version": "2.3.4"
    },
    "colab": {
      "provenance": []
    }
  },
  "nbformat": 4,
  "nbformat_minor": 5
}